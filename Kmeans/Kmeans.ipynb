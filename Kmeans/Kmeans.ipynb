{
 "cells": [
  {
   "cell_type": "code",
   "execution_count": 101,
   "id": "5752058e",
   "metadata": {},
   "outputs": [],
   "source": [
    "import pandas as pd\n",
    "import sqlite3\n",
    "import numpy as np\n",
    "import random"
   ]
  },
  {
   "cell_type": "markdown",
   "id": "86d54790",
   "metadata": {},
   "source": [
    "importa as libs"
   ]
  },
  {
   "cell_type": "code",
   "execution_count": 102,
   "id": "aa0e342b",
   "metadata": {},
   "outputs": [],
   "source": [
    "conection = sqlite3.connect(\"./db/db.db\")\n",
    "cursor = conection.cursor()\n",
    "df = pd.read_sql_query(\"SELECT * FROM iris\", conection, index_col=\"id\")"
   ]
  },
  {
   "cell_type": "markdown",
   "id": "80dc0b17",
   "metadata": {},
   "source": [
    "conecta com o banco de dados"
   ]
  },
  {
   "cell_type": "code",
   "execution_count": 103,
   "id": "248b09c6",
   "metadata": {},
   "outputs": [],
   "source": [
    "def pontoAleatorio(n:int=2):\n",
    "    if n<2:\n",
    "        raise ValueError(f\"{n} é menor que 2\")\n",
    "    elif type(n) not in [int,float]:\n",
    "        raise ValueError(f\"{n} não é numerico\")\n",
    "    else:\n",
    "        return np.array([\n",
    "        [random.uniform(df[col].min(), df[col].max()) for col in df.columns] \n",
    "        for _ in range(n)\n",
    "    ])"
   ]
  },
  {
   "cell_type": "markdown",
   "id": "e06a7649",
   "metadata": {},
   "source": [
    "retorna um np.array de um ponto com todas as cordenadas aleatórias"
   ]
  },
  {
   "cell_type": "code",
   "execution_count": 104,
   "id": "fcd2316c",
   "metadata": {},
   "outputs": [],
   "source": [
    "def distanciaPontoAPonto(ponto1:np.array, ponto2:np.array):\n",
    "    somaquadrados = 0\n",
    "    for i in range(len(ponto1)):\n",
    "        somaquadrados += np.square(ponto1[i] - ponto2[i])\n",
    "    return np.sqrt(somaquadrados)"
   ]
  },
  {
   "cell_type": "markdown",
   "id": "e6be43e8",
   "metadata": {},
   "source": [
    "retorna a distancia entre dois pontos a partida da entrada ponto1 e ponto 2"
   ]
  },
  {
   "cell_type": "code",
   "execution_count": 105,
   "id": "7e076d97",
   "metadata": {},
   "outputs": [],
   "source": [
    "def relacionaClasseCentroide(n: int,pontos):\n",
    "    json = {}\n",
    "    for i in range(len(pontos)):\n",
    "        json[i + 1] = pontos[i]\n",
    "    return json\n"
   ]
  },
  {
   "cell_type": "markdown",
   "id": "9ab1561c",
   "metadata": {},
   "source": [
    "retorna um json com n pontos e suas classes correspondentes a partir de um input numérico n"
   ]
  },
  {
   "cell_type": "code",
   "execution_count": 106,
   "id": "276fdeb1",
   "metadata": {},
   "outputs": [],
   "source": [
    "def classificaPonto(ponto:np.array,centroides:dict):\n",
    "    classe=1\n",
    "    menor_dist=None\n",
    "    for x in centroides.keys():\n",
    "        if menor_dist==None:\n",
    "            classe = x\n",
    "            menor_dist = distanciaPontoAPonto(ponto,centroides[x])\n",
    "        elif distanciaPontoAPonto(ponto, centroides[x])<menor_dist:\n",
    "            classe = x\n",
    "            menor_dist = distanciaPontoAPonto(ponto,centroides[x])\n",
    "    return classe"
   ]
  },
  {
   "cell_type": "markdown",
   "id": "65fb0db9",
   "metadata": {},
   "source": [
    "a partir de um ponto e o dicionário no formato retornado pela função relacionaClasseCentroide."
   ]
  },
  {
   "cell_type": "code",
   "execution_count": 107,
   "id": "ebdfabbf",
   "metadata": {},
   "outputs": [],
   "source": [
    "def aplica_ao_db(n,pontos):\n",
    "    centroides=relacionaClasseCentroide(n,pontos)\n",
    "    colunas_numericas=[col for col in df.columns]\n",
    "    df['classe'] = df.apply(lambda row: classificaPonto(np.array(row[colunas_numericas]), centroides), axis=1)"
   ]
  },
  {
   "cell_type": "markdown",
   "id": "91af5ee3",
   "metadata": {},
   "source": [
    "calcula a distancia no dataset"
   ]
  },
  {
   "cell_type": "code",
   "execution_count": 108,
   "id": "f7918cb6",
   "metadata": {},
   "outputs": [],
   "source": [
    "def selecionaClasses(n,pontos):\n",
    "    aplica_ao_db(n,pontos)\n",
    "    json={}\n",
    "    for i in range(1,n+1):\n",
    "        json[i]=df[df['classe'] == i]\n",
    "    return json\n"
   ]
  },
  {
   "cell_type": "markdown",
   "id": "23b19779",
   "metadata": {},
   "source": [
    "um data base de acordo com cada classe"
   ]
  },
  {
   "cell_type": "code",
   "execution_count": 109,
   "id": "6e9b502b",
   "metadata": {},
   "outputs": [],
   "source": [
    "def selecionaporclasse():\n",
    "    classes=df['classe'].unique()\n",
    "    json={}\n",
    "    for classe in classes:\n",
    "        json[classe]=df.loc[df['classe']==classe]\n",
    "    return json"
   ]
  },
  {
   "cell_type": "markdown",
   "id": "025f6e5e",
   "metadata": {},
   "source": [
    "retorna um json com os dados organizados de acordo com cada classe"
   ]
  },
  {
   "cell_type": "code",
   "execution_count": 110,
   "id": "f5b42eb1",
   "metadata": {},
   "outputs": [],
   "source": [
    "def recauculaCentroide():\n",
    "    dados=selecionaporclasse()\n",
    "    json={}\n",
    "    classes=dados.keys()\n",
    "    for classe in classes:\n",
    "        json[classe]=np.array([df[x].mean() for x in df.columns])\n",
    "    return json\n"
   ]
  },
  {
   "cell_type": "markdown",
   "id": "76adf967",
   "metadata": {},
   "source": [
    "retorna um json com o seguinte esquema\n",
    "valores: centroides calculado\n",
    "chaves: devida classe do centroide"
   ]
  },
  {
   "cell_type": "code",
   "execution_count": 111,
   "id": "4261bf93",
   "metadata": {},
   "outputs": [],
   "source": [
    "def exibe():\n",
    "    json=selecionaporclasse()\n",
    "    texto=''\n",
    "    for i in range(1,len(json.keys())+1):\n",
    "        texto+=f\"{i}:{len(json[i]['classe'])}\\n\"\n",
    "    print(texto)"
   ]
  },
  {
   "cell_type": "markdown",
   "id": "9840682d",
   "metadata": {},
   "source": [
    "exibe o numero de dados de cada classe no dataframe"
   ]
  }
 ],
 "metadata": {
  "kernelspec": {
   "display_name": "skit",
   "language": "python",
   "name": "python3"
  },
  "language_info": {
   "codemirror_mode": {
    "name": "ipython",
    "version": 3
   },
   "file_extension": ".py",
   "mimetype": "text/x-python",
   "name": "python",
   "nbconvert_exporter": "python",
   "pygments_lexer": "ipython3",
   "version": "3.10.12"
  }
 },
 "nbformat": 4,
 "nbformat_minor": 5
}

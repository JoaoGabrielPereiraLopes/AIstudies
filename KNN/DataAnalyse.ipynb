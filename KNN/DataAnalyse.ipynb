{
 "cells": [
  {
   "cell_type": "code",
   "execution_count": 402,
   "metadata": {},
   "outputs": [],
   "source": [
    "from sklearn import datasets\n",
    "import matplotlib.pyplot as plt\n",
    "import random\n",
    "import numpy as np\n",
    "import pandas as pd\n",
    "\n",
    "lista = [[], []]\n"
   ]
  },
  {
   "cell_type": "code",
   "execution_count": 403,
   "metadata": {},
   "outputs": [],
   "source": [
    "# Função de distância Euclidiana\n",
    "def distanciaPontoAPonto(ponto1, ponto2):\n",
    "    somaquadrados = 0\n",
    "    for i in range(len(ponto1)):\n",
    "        somaquadrados += np.square(ponto1[i] - ponto2[i])\n",
    "    return np.sqrt(somaquadrados)\n"
   ]
  },
  {
   "cell_type": "code",
   "execution_count": 404,
   "metadata": {},
   "outputs": [],
   "source": [
    "# Verifica se ainda pode adicionar vizinhos\n",
    "def gerenciarK(k, lista, value):\n",
    "    if len(lista) < k:\n",
    "        return True\n",
    "    else:\n",
    "        for x in range(len(lista)):\n",
    "            if lista[x] > value:\n",
    "                return True\n",
    "    return False\n"
   ]
  },
  {
   "cell_type": "code",
   "execution_count": 405,
   "metadata": {},
   "outputs": [],
   "source": [
    "def implementak(k, valor, classe):\n",
    "    if gerenciarK(k, lista[0], valor):\n",
    "        if len(lista[0]) < k:\n",
    "            lista[0].append(valor)\n",
    "            lista[1].append(classe)\n",
    "        else:\n",
    "            for x in range(len(lista[0])):\n",
    "                if lista[0][x] > valor:\n",
    "                    lista[0].pop()\n",
    "                    lista[0].insert(x, valor)\n",
    "                    lista[1].pop()\n",
    "                    lista[1].insert(x, classe)\n",
    "                    break"
   ]
  },
  {
   "cell_type": "code",
   "execution_count": 406,
   "metadata": {},
   "outputs": [],
   "source": [
    "# Calcula os k vizinhos mais próximos de um ponto\n",
    "def kvisinhos(ponto, k,data):\n",
    "    global lista\n",
    "    lista = [[], []]  # Reinicia a lista a cada chamada\n",
    "    for i in range(len(data.data)):\n",
    "        implementak(k, distanciaPontoAPonto(ponto, data.data[i]), data.target[i])\n"
   ]
  },
  {
   "cell_type": "code",
   "execution_count": 407,
   "metadata": {},
   "outputs": [],
   "source": [
    "def achaindex(lista, valor):\n",
    "    indexes = []\n",
    "    for i in range(len(lista)):\n",
    "        if lista[i] == valor:\n",
    "            indexes.append(i)\n",
    "    return indexes\n"
   ]
  },
  {
   "cell_type": "code",
   "execution_count": 408,
   "metadata": {},
   "outputs": [],
   "source": [
    "# Conta quantos pontos de cada classe estão próximos\n",
    "def pontos_pertos(ponto, k,data):\n",
    "    json = {}\n",
    "    kvisinhos(ponto, k,data)\n",
    "    for x in range(3):\n",
    "        json[x] = lista[1].count(x)\n",
    "    return json"
   ]
  },
  {
   "cell_type": "code",
   "execution_count": 409,
   "metadata": {},
   "outputs": [],
   "source": [
    "# Prever a classe com base nos vizinhos\n",
    "def prever_classe(ponto, k,data):\n",
    "    json = pontos_pertos(ponto, k,data)\n",
    "    return max(json, key=json.get)\n"
   ]
  },
  {
   "cell_type": "code",
   "execution_count": 410,
   "metadata": {},
   "outputs": [],
   "source": [
    "# Remove ponto do dataset\n",
    "def delete_ponto(index,data):\n",
    "    global iris\n",
    "    data.data = np.delete(data.data, index, axis=0)\n",
    "    data.target = np.delete(data.target, index, axis=0)"
   ]
  },
  {
   "cell_type": "code",
   "execution_count": 411,
   "metadata": {},
   "outputs": [],
   "source": [
    "# Retorna ponto aleatório e sua classe\n",
    "def ponto_aleatorio(data):\n",
    "    index = random.randint(0, len(data.data) - 1)\n",
    "    ponto = data.data[index]\n",
    "    classe = data.target[index]\n",
    "    delete_ponto(index,data)\n",
    "    return ponto, classe\n"
   ]
  },
  {
   "cell_type": "code",
   "execution_count": 412,
   "metadata": {},
   "outputs": [],
   "source": [
    "# Separa parte dos dados para teste (Holdout)\n",
    "def holdout(data = datasets.load_iris()):\n",
    "    teste=[]\n",
    "    for i in range(int(len(data.data) * 0.2)):\n",
    "        ponto, index = ponto_aleatorio(data)\n",
    "        teste.append([ponto, index])\n",
    "    return teste, data"
   ]
  },
  {
   "cell_type": "code",
   "execution_count": 413,
   "metadata": {},
   "outputs": [],
   "source": [
    "def acuracy(k,data,teste):\n",
    "    acertos = 0\n",
    "    for ponto in teste:\n",
    "        classe_prevista = prever_classe(ponto[0], k,data)\n",
    "        classe = ponto[1]\n",
    "        if classe_prevista == classe:\n",
    "            acertos += 1\n",
    "    return acertos/len(teste)\n"
   ]
  },
  {
   "cell_type": "code",
   "execution_count": 414,
   "metadata": {},
   "outputs": [],
   "source": [
    "# Gera acurácia para vários valores de k\n",
    "def acuracy_gera(MIN,MAX,repeticoes=1,data=datasets.load_iris()):\n",
    "    acuracys = {}\n",
    "    for k in range(MIN,MAX):\n",
    "        acuracys[k] = 0\n",
    "    for _ in range(repeticoes):\n",
    "        teste,origin = holdout(data)\n",
    "        for k in range(MIN,MAX):\n",
    "            acuracys[k] += acuracy(k,origin,teste)\n",
    "        data=datasets.load_iris()\n",
    "    for x in acuracys:\n",
    "        acuracys[x] /= repeticoes\n",
    "    return acuracys"
   ]
  },
  {
   "cell_type": "code",
   "execution_count": null,
   "metadata": {},
   "outputs": [],
   "source": [
    "def plotar_grafico():\n",
    "    acuracys = acuracy_gera(10 ,20,100)\n",
    "    x = list(acuracys.keys())\n",
    "    y = list(acuracys.values())\n",
    "    plt.plot(x, y)\n",
    "    plt.title('Acurácia por valor de K')\n",
    "    plt.xlabel('K')\n",
    "    plt.ylabel('Acurácia')\n",
    "    plt.show()\n"
   ]
  },
  {
   "cell_type": "code",
   "execution_count": 416,
   "metadata": {},
   "outputs": [
    {
     "data": {
      "image/png": "[encoded data removed]",
      "text/plain": [
       "<Figure size 640x480 with 1 Axes>"
      ]
     },
     "metadata": {},
     "output_type": "display_data"
    }
   ],
   "source": [
    "plotar_grafico()"
   ]
  }
 ],
 "metadata": {
  "kernelspec": {
   "display_name": "skit",
   "language": "python",
   "name": "python3"
  },
  "language_info": {
   "codemirror_mode": {
    "name": "ipython",
    "version": 3
   },
   "file_extension": ".py",
   "mimetype": "text/x-python",
   "name": "python",
   "nbconvert_exporter": "python",
   "pygments_lexer": "ipython3",
   "version": "3.10.12"
  }
 },
 "nbformat": 4,
 "nbformat_minor": 2
}
